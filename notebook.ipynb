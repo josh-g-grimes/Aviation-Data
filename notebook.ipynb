{
 "cells": [
  {
   "cell_type": "markdown",
   "metadata": {},
   "source": [
    "Business Understanding"
   ]
  },
  {
   "cell_type": "markdown",
   "metadata": {},
   "source": [
    "The boss man wants low risk aircraft. "
   ]
  },
  {
   "cell_type": "markdown",
   "metadata": {},
   "source": [
    "# Data Understanding"
   ]
  },
  {
   "cell_type": "code",
   "execution_count": 198,
   "metadata": {},
   "outputs": [],
   "source": [
    "import pandas as pd\n",
    "import numpy as np"
   ]
  },
  {
   "cell_type": "code",
   "execution_count": 210,
   "metadata": {},
   "outputs": [
    {
     "name": "stderr",
     "output_type": "stream",
     "text": [
      "C:\\Users\\joshg\\anaconda3\\envs\\learn-env\\lib\\site-packages\\IPython\\core\\interactiveshell.py:3145: DtypeWarning: Columns (6,7,28) have mixed types.Specify dtype option on import or set low_memory=False.\n",
      "  has_raised = await self.run_ast_nodes(code_ast.body, cell_name,\n"
     ]
    }
   ],
   "source": [
    "ad = pd.read_csv('Aviation_Data.csv') #named dataset \"ad\" for simplicity"
   ]
  },
  {
   "cell_type": "code",
   "execution_count": 219,
   "metadata": {
    "scrolled": false
   },
   "outputs": [
    {
     "name": "stdout",
     "output_type": "stream",
     "text": [
      "<class 'pandas.core.frame.DataFrame'>\n",
      "Int64Index: 28813 entries, 5 to 90345\n",
      "Data columns (total 8 columns):\n",
      " #   Column                  Non-Null Count  Dtype  \n",
      "---  ------                  --------------  -----  \n",
      " 0   Accident.Number         28813 non-null  object \n",
      " 1   Aircraft.Category       28813 non-null  object \n",
      " 2   Amateur.Built           28813 non-null  object \n",
      " 3   Number.of.Engines       28813 non-null  float64\n",
      " 4   Total.Fatal.Injuries    28813 non-null  float64\n",
      " 5   Total.Serious.Injuries  28813 non-null  float64\n",
      " 6   Total.Minor.Injuries    28813 non-null  float64\n",
      " 7   Total.Uninjured         28813 non-null  float64\n",
      "dtypes: float64(5), object(3)\n",
      "memory usage: 2.0+ MB\n"
     ]
    }
   ],
   "source": [
    "ad.info() #see what the dataset looks like\n"
   ]
  },
  {
   "cell_type": "code",
   "execution_count": 220,
   "metadata": {
    "scrolled": true
   },
   "outputs": [
    {
     "data": {
      "text/html": [
       "<div>\n",
       "<style scoped>\n",
       "    .dataframe tbody tr th:only-of-type {\n",
       "        vertical-align: middle;\n",
       "    }\n",
       "\n",
       "    .dataframe tbody tr th {\n",
       "        vertical-align: top;\n",
       "    }\n",
       "\n",
       "    .dataframe thead th {\n",
       "        text-align: right;\n",
       "    }\n",
       "</style>\n",
       "<table border=\"1\" class=\"dataframe\">\n",
       "  <thead>\n",
       "    <tr style=\"text-align: right;\">\n",
       "      <th></th>\n",
       "      <th>Accident.Number</th>\n",
       "      <th>Aircraft.Category</th>\n",
       "      <th>Amateur.Built</th>\n",
       "      <th>Number.of.Engines</th>\n",
       "      <th>Total.Fatal.Injuries</th>\n",
       "      <th>Total.Serious.Injuries</th>\n",
       "      <th>Total.Minor.Injuries</th>\n",
       "      <th>Total.Uninjured</th>\n",
       "    </tr>\n",
       "  </thead>\n",
       "  <tbody>\n",
       "    <tr>\n",
       "      <th>5</th>\n",
       "      <td>NYC79AA106</td>\n",
       "      <td>Airplane</td>\n",
       "      <td>No</td>\n",
       "      <td>2.0</td>\n",
       "      <td>0.0</td>\n",
       "      <td>0.0</td>\n",
       "      <td>1.0</td>\n",
       "      <td>44.0</td>\n",
       "    </tr>\n",
       "    <tr>\n",
       "      <th>7</th>\n",
       "      <td>SEA82DA022</td>\n",
       "      <td>Airplane</td>\n",
       "      <td>No</td>\n",
       "      <td>1.0</td>\n",
       "      <td>0.0</td>\n",
       "      <td>0.0</td>\n",
       "      <td>0.0</td>\n",
       "      <td>2.0</td>\n",
       "    </tr>\n",
       "    <tr>\n",
       "      <th>8</th>\n",
       "      <td>NYC82DA015</td>\n",
       "      <td>Airplane</td>\n",
       "      <td>No</td>\n",
       "      <td>2.0</td>\n",
       "      <td>0.0</td>\n",
       "      <td>0.0</td>\n",
       "      <td>0.0</td>\n",
       "      <td>2.0</td>\n",
       "    </tr>\n",
       "    <tr>\n",
       "      <th>12</th>\n",
       "      <td>FTW82FRJ07</td>\n",
       "      <td>Airplane</td>\n",
       "      <td>No</td>\n",
       "      <td>1.0</td>\n",
       "      <td>0.0</td>\n",
       "      <td>0.0</td>\n",
       "      <td>1.0</td>\n",
       "      <td>0.0</td>\n",
       "    </tr>\n",
       "    <tr>\n",
       "      <th>13</th>\n",
       "      <td>FTW82FRA14</td>\n",
       "      <td>Airplane</td>\n",
       "      <td>No</td>\n",
       "      <td>1.0</td>\n",
       "      <td>1.0</td>\n",
       "      <td>0.0</td>\n",
       "      <td>0.0</td>\n",
       "      <td>0.0</td>\n",
       "    </tr>\n",
       "  </tbody>\n",
       "</table>\n",
       "</div>"
      ],
      "text/plain": [
       "   Accident.Number Aircraft.Category Amateur.Built  Number.of.Engines  \\\n",
       "5       NYC79AA106          Airplane            No                2.0   \n",
       "7       SEA82DA022          Airplane            No                1.0   \n",
       "8       NYC82DA015          Airplane            No                2.0   \n",
       "12      FTW82FRJ07          Airplane            No                1.0   \n",
       "13      FTW82FRA14          Airplane            No                1.0   \n",
       "\n",
       "    Total.Fatal.Injuries  Total.Serious.Injuries  Total.Minor.Injuries  \\\n",
       "5                    0.0                     0.0                   1.0   \n",
       "7                    0.0                     0.0                   0.0   \n",
       "8                    0.0                     0.0                   0.0   \n",
       "12                   0.0                     0.0                   1.0   \n",
       "13                   1.0                     0.0                   0.0   \n",
       "\n",
       "    Total.Uninjured  \n",
       "5              44.0  \n",
       "7               2.0  \n",
       "8               2.0  \n",
       "12              0.0  \n",
       "13              0.0  "
      ]
     },
     "execution_count": 220,
     "metadata": {},
     "output_type": "execute_result"
    }
   ],
   "source": [
    "ad.head()"
   ]
  },
  {
   "cell_type": "code",
   "execution_count": 221,
   "metadata": {
    "scrolled": true
   },
   "outputs": [
    {
     "data": {
      "text/plain": [
       "count        28813\n",
       "unique          14\n",
       "top       Airplane\n",
       "freq         24848\n",
       "Name: Aircraft.Category, dtype: object"
      ]
     },
     "execution_count": 221,
     "metadata": {},
     "output_type": "execute_result"
    }
   ],
   "source": [
    "ad['Aircraft.Category'].describe()"
   ]
  },
  {
   "cell_type": "code",
   "execution_count": 222,
   "metadata": {
    "scrolled": true
   },
   "outputs": [
    {
     "data": {
      "text/plain": [
       "array(['Airplane', 'Helicopter', 'Glider', 'Balloon', 'Gyrocraft',\n",
       "       'Ultralight', 'Unknown', 'Blimp', 'Powered-Lift', 'Weight-Shift',\n",
       "       'Powered Parachute', 'Rocket', 'WSFT', 'ULTR'], dtype=object)"
      ]
     },
     "execution_count": 222,
     "metadata": {},
     "output_type": "execute_result"
    }
   ],
   "source": [
    "ad['Aircraft.Category'].unique()"
   ]
  },
  {
   "cell_type": "code",
   "execution_count": 223,
   "metadata": {
    "scrolled": true
   },
   "outputs": [
    {
     "data": {
      "text/plain": [
       "count     28813\n",
       "unique        2\n",
       "top          No\n",
       "freq      25479\n",
       "Name: Amateur.Built, dtype: object"
      ]
     },
     "execution_count": 223,
     "metadata": {},
     "output_type": "execute_result"
    }
   ],
   "source": [
    "ad['Amateur.Built'].describe()"
   ]
  },
  {
   "cell_type": "code",
   "execution_count": 224,
   "metadata": {
    "scrolled": false
   },
   "outputs": [
    {
     "data": {
      "text/plain": [
       "array(['No', 'Yes'], dtype=object)"
      ]
     },
     "execution_count": 224,
     "metadata": {},
     "output_type": "execute_result"
    }
   ],
   "source": [
    "ad['Amateur.Built'].unique()"
   ]
  },
  {
   "cell_type": "markdown",
   "metadata": {},
   "source": [
    "# Data Preparation"
   ]
  },
  {
   "cell_type": "markdown",
   "metadata": {},
   "source": [
    "## Data Cleaning"
   ]
  },
  {
   "cell_type": "code",
   "execution_count": 212,
   "metadata": {},
   "outputs": [],
   "source": [
    "\"\"\"\n",
    "Here I'm going to drop all of the columns that aren't of interest to me.  I'm interested in \n",
    "knowing whehter amateur vs. professional built aircrafts are lower risk, which aircraft type\n",
    "is lowest risk, and which number of engines are lowest risk based on the number of injuries\n",
    "they have.\n",
    "\"\"\"\n",
    "\n",
    "ad.drop(columns = ['Event.Id', 'Investigation.Type', 'Event.Date', 'Location', 'Country', 'Latitude', \n",
    "                  'Airport.Code', 'Airport.Name', 'Aircraft.damage', 'Registration.Number', 'FAR.Description', \n",
    "                  'Schedule', 'Purpose.of.flight', 'Air.carrier', 'Weather.Condition', 'Longitude', \n",
    "                  'Broad.phase.of.flight', 'Report.Status', 'Publication.Date', 'Injury.Severity', 'Make',\n",
    "                  'Model', 'Engine.Type'], inplace=True)"
   ]
  },
  {
   "cell_type": "code",
   "execution_count": 214,
   "metadata": {},
   "outputs": [],
   "source": [
    "ad = ad.drop_duplicates() #drop duplicate values"
   ]
  },
  {
   "cell_type": "code",
   "execution_count": 215,
   "metadata": {},
   "outputs": [
    {
     "data": {
      "text/plain": [
       "Accident.Number               1\n",
       "Aircraft.Category         56601\n",
       "Amateur.Built               103\n",
       "Number.of.Engines          6077\n",
       "Total.Fatal.Injuries      11402\n",
       "Total.Serious.Injuries    12511\n",
       "Total.Minor.Injuries      11934\n",
       "Total.Uninjured            5913\n",
       "dtype: int64"
      ]
     },
     "execution_count": 215,
     "metadata": {},
     "output_type": "execute_result"
    }
   ],
   "source": [
    "### Now I have all of the columns I want to do my analysis so I'm going to check and see if those\n",
    "### columns have any missing data. \n",
    "\n",
    "ad.isna().sum()"
   ]
  },
  {
   "cell_type": "code",
   "execution_count": 216,
   "metadata": {},
   "outputs": [],
   "source": [
    "\"\"\" The injuries seem to have a large amount of missing data but it looks like if there were no\n",
    "injuries that they left the cell blank so I'm going to replace all of these missing data with 0's\"\"\"\n",
    "\n",
    "ad['Total.Fatal.Injuries'] = ad['Total.Fatal.Injuries'].fillna(value=0)\n",
    "ad['Total.Serious.Injuries'] = ad['Total.Serious.Injuries'].fillna(value=0)\n",
    "ad['Total.Minor.Injuries'] = ad['Total.Minor.Injuries'].fillna(value=0)\n",
    "ad['Total.Uninjured'] = ad['Total.Uninjured'].fillna(value=0)"
   ]
  },
  {
   "cell_type": "code",
   "execution_count": 217,
   "metadata": {},
   "outputs": [],
   "source": [
    "### the rest of the missing data makes up about 8% of a large dataset so I'm going to remove those\n",
    "ad = ad.dropna()"
   ]
  },
  {
   "cell_type": "code",
   "execution_count": 218,
   "metadata": {
    "scrolled": false
   },
   "outputs": [
    {
     "name": "stdout",
     "output_type": "stream",
     "text": [
      "Sum of Missing Values in Each Column:   Accident.Number           0\n",
      "Aircraft.Category         0\n",
      "Amateur.Built             0\n",
      "Number.of.Engines         0\n",
      "Total.Fatal.Injuries      0\n",
      "Total.Serious.Injuries    0\n",
      "Total.Minor.Injuries      0\n",
      "Total.Uninjured           0\n",
      "dtype: int64\n",
      "Shape of the dataset:   (28813, 8)\n"
     ]
    }
   ],
   "source": [
    "###Now I have finished cleaning the Data and I have 8 columns with 28k accidends of information that I'm interested in \n",
    "\n",
    "print('Sum of Missing Values in Each Column:  ', ad.isna().sum())\n",
    "print('Shape of the dataset:  ', ad.shape)"
   ]
  },
  {
   "cell_type": "markdown",
   "metadata": {},
   "source": [
    "# Analysis"
   ]
  },
  {
   "cell_type": "code",
   "execution_count": 207,
   "metadata": {
    "scrolled": true
   },
   "outputs": [
    {
     "data": {
      "text/html": [
       "<div>\n",
       "<style scoped>\n",
       "    .dataframe tbody tr th:only-of-type {\n",
       "        vertical-align: middle;\n",
       "    }\n",
       "\n",
       "    .dataframe tbody tr th {\n",
       "        vertical-align: top;\n",
       "    }\n",
       "\n",
       "    .dataframe thead th {\n",
       "        text-align: right;\n",
       "    }\n",
       "</style>\n",
       "<table border=\"1\" class=\"dataframe\">\n",
       "  <thead>\n",
       "    <tr style=\"text-align: right;\">\n",
       "      <th></th>\n",
       "      <th>Number.of.Engines</th>\n",
       "      <th>Total.Fatal.Injuries</th>\n",
       "      <th>Total.Serious.Injuries</th>\n",
       "      <th>Total.Minor.Injuries</th>\n",
       "      <th>Total.Uninjured</th>\n",
       "    </tr>\n",
       "    <tr>\n",
       "      <th>Amateur.Built</th>\n",
       "      <th></th>\n",
       "      <th></th>\n",
       "      <th></th>\n",
       "      <th></th>\n",
       "      <th></th>\n",
       "    </tr>\n",
       "  </thead>\n",
       "  <tbody>\n",
       "    <tr>\n",
       "      <th>No</th>\n",
       "      <td>29182.0</td>\n",
       "      <td>10535.0</td>\n",
       "      <td>6733.0</td>\n",
       "      <td>5366.0</td>\n",
       "      <td>124152.0</td>\n",
       "    </tr>\n",
       "    <tr>\n",
       "      <th>Yes</th>\n",
       "      <td>3351.0</td>\n",
       "      <td>979.0</td>\n",
       "      <td>748.0</td>\n",
       "      <td>724.0</td>\n",
       "      <td>2142.0</td>\n",
       "    </tr>\n",
       "  </tbody>\n",
       "</table>\n",
       "</div>"
      ],
      "text/plain": [
       "               Number.of.Engines  Total.Fatal.Injuries  \\\n",
       "Amateur.Built                                            \n",
       "No                       29182.0               10535.0   \n",
       "Yes                       3351.0                 979.0   \n",
       "\n",
       "               Total.Serious.Injuries  Total.Minor.Injuries  Total.Uninjured  \n",
       "Amateur.Built                                                                 \n",
       "No                             6733.0                5366.0         124152.0  \n",
       "Yes                             748.0                 724.0           2142.0  "
      ]
     },
     "execution_count": 207,
     "metadata": {},
     "output_type": "execute_result"
    }
   ],
   "source": [
    "### The first thing I wanted to do was see if there was a difference in the amount of people \n",
    "### injured in aircraft that were built by amateurs or not. \n",
    "\n",
    "ad.groupby(['Amateur.Built']).sum()"
   ]
  },
  {
   "cell_type": "code",
   "execution_count": 183,
   "metadata": {},
   "outputs": [],
   "source": [
    "import matplotlib\n",
    "import matplotlib.pyplot as plt\n",
    "\n",
    "%matplotlib inline"
   ]
  },
  {
   "cell_type": "markdown",
   "metadata": {},
   "source": [
    "### Create plot\n",
    "amateur_built_fig, injuries_axes = plt.subplots(nrows=1, ncols=2, figsize=(10,4))\n",
    "\n",
    "injuries_axes[0].set_title('Injuries in Amateur vs. Professional Built Aircraft')\n",
    "injuries_axes[0].set_ylabel('Number of Injuries')\n",
    "injuries_axes[0].set_xlabel('Amateur vs. Professional')\n",
    "\n",
    "injuries = ad['Total.Fatal.Injuries']\n",
    "\n",
    "injuries_axes[0].hist(injuries, bins =15)\n",
    "\n",
    "plt.show()"
   ]
  },
  {
   "cell_type": "code",
   "execution_count": 147,
   "metadata": {},
   "outputs": [],
   "source": [
    "### Now we are going to drop all of events that happened in amateur-built airplanes because\n",
    "### I'm not going to make a recommendation to my company to buy amateur-built airplanes. \n",
    "\n",
    "ad = ad[ad['Amateur.Built'] == 'No']\n",
    "        "
   ]
  },
  {
   "cell_type": "code",
   "execution_count": 148,
   "metadata": {},
   "outputs": [],
   "source": [
    "#Now I dropped the Amateur Built Column because all of the data is non-amateur-built airplanes. \n",
    "\n",
    "ad = ad.drop('Amateur.Built', axis = 1)"
   ]
  },
  {
   "cell_type": "code",
   "execution_count": 149,
   "metadata": {},
   "outputs": [
    {
     "data": {
      "text/plain": [
       "Accident.Number               0\n",
       "Aircraft.Category         51591\n",
       "Number.of.Engines          5706\n",
       "Engine.Type                6664\n",
       "Total.Fatal.Injuries      10157\n",
       "Total.Serious.Injuries    11084\n",
       "Total.Minor.Injuries      10557\n",
       "Total.Uninjured            4887\n",
       "dtype: int64"
      ]
     },
     "execution_count": 149,
     "metadata": {},
     "output_type": "execute_result"
    }
   ],
   "source": [
    "### Now I have all of the columns I want to do my analysis so I'm going to check and see if those\n",
    "### columns have any missing data. \n",
    "\n",
    "ad.isna().sum()"
   ]
  },
  {
   "cell_type": "code",
   "execution_count": 180,
   "metadata": {
    "scrolled": true
   },
   "outputs": [],
   "source": [
    "\"\"\" The injuries seem to have a large amount of missing data but it looks like if there were no\n",
    "injuries that they left the cell blank so I'm going to replace all of these missing data with 0's\"\"\"\n",
    "\n",
    "ad['Total.Fatal.Injuries'] = ad['Total.Fatal.Injuries'].fillna(value=0)\n",
    "ad['Total.Serious.Injuries'] = ad['Total.Serious.Injuries'].fillna(value=0)\n",
    "ad['Total.Minor.Injuries'] = ad['Total.Minor.Injuries'].fillna(value=0)\n",
    "ad['Total.Uninjured'] = ad['Total.Uninjured'].fillna(value=0)"
   ]
  },
  {
   "cell_type": "code",
   "execution_count": 181,
   "metadata": {
    "scrolled": false
   },
   "outputs": [],
   "source": [
    "### the rest of the missing data makes up about 8% of a large dataset so I'm going to remove those\n",
    "ad = ad.dropna()\n"
   ]
  },
  {
   "cell_type": "code",
   "execution_count": 182,
   "metadata": {},
   "outputs": [
    {
     "name": "stdout",
     "output_type": "stream",
     "text": [
      "Sum of Missing Values in Each Column:   Accident.Number           0\n",
      "Aircraft.Category         0\n",
      "Amateur.Built             0\n",
      "Number.of.Engines         0\n",
      "Engine.Type               0\n",
      "Total.Fatal.Injuries      0\n",
      "Total.Serious.Injuries    0\n",
      "Total.Minor.Injuries      0\n",
      "Total.Uninjured           0\n",
      "dtype: int64\n",
      "Shape of the dataset:   (25953, 9)\n"
     ]
    }
   ],
   "source": [
    "###Now I have finished cleaning the Data and I have 10 columns with 22k accidends of information that I'm interested in \n",
    "\n",
    "print('Sum of Missing Values in Each Column:  ', ad.isna().sum())\n",
    "print('Shape of the dataset:  ', ad.shape)"
   ]
  },
  {
   "cell_type": "code",
   "execution_count": 153,
   "metadata": {
    "scrolled": true
   },
   "outputs": [
    {
     "data": {
      "text/html": [
       "<div>\n",
       "<style scoped>\n",
       "    .dataframe tbody tr th:only-of-type {\n",
       "        vertical-align: middle;\n",
       "    }\n",
       "\n",
       "    .dataframe tbody tr th {\n",
       "        vertical-align: top;\n",
       "    }\n",
       "\n",
       "    .dataframe thead th {\n",
       "        text-align: right;\n",
       "    }\n",
       "</style>\n",
       "<table border=\"1\" class=\"dataframe\">\n",
       "  <thead>\n",
       "    <tr style=\"text-align: right;\">\n",
       "      <th></th>\n",
       "      <th>Accident.Number</th>\n",
       "      <th>Number.of.Engines</th>\n",
       "      <th>Engine.Type</th>\n",
       "      <th>Total.Fatal.Injuries</th>\n",
       "      <th>Total.Serious.Injuries</th>\n",
       "      <th>Total.Minor.Injuries</th>\n",
       "      <th>Total.Uninjured</th>\n",
       "    </tr>\n",
       "    <tr>\n",
       "      <th>Aircraft.Category</th>\n",
       "      <th></th>\n",
       "      <th></th>\n",
       "      <th></th>\n",
       "      <th></th>\n",
       "      <th></th>\n",
       "      <th></th>\n",
       "      <th></th>\n",
       "    </tr>\n",
       "  </thead>\n",
       "  <tbody>\n",
       "    <tr>\n",
       "      <th>Airplane</th>\n",
       "      <td>19910</td>\n",
       "      <td>19910</td>\n",
       "      <td>19910</td>\n",
       "      <td>19910</td>\n",
       "      <td>19910</td>\n",
       "      <td>19910</td>\n",
       "      <td>19910</td>\n",
       "    </tr>\n",
       "    <tr>\n",
       "      <th>Balloon</th>\n",
       "      <td>45</td>\n",
       "      <td>45</td>\n",
       "      <td>45</td>\n",
       "      <td>45</td>\n",
       "      <td>45</td>\n",
       "      <td>45</td>\n",
       "      <td>45</td>\n",
       "    </tr>\n",
       "    <tr>\n",
       "      <th>Blimp</th>\n",
       "      <td>4</td>\n",
       "      <td>4</td>\n",
       "      <td>4</td>\n",
       "      <td>4</td>\n",
       "      <td>4</td>\n",
       "      <td>4</td>\n",
       "      <td>4</td>\n",
       "    </tr>\n",
       "    <tr>\n",
       "      <th>Glider</th>\n",
       "      <td>115</td>\n",
       "      <td>115</td>\n",
       "      <td>115</td>\n",
       "      <td>115</td>\n",
       "      <td>115</td>\n",
       "      <td>115</td>\n",
       "      <td>115</td>\n",
       "    </tr>\n",
       "    <tr>\n",
       "      <th>Gyrocraft</th>\n",
       "      <td>25</td>\n",
       "      <td>25</td>\n",
       "      <td>25</td>\n",
       "      <td>25</td>\n",
       "      <td>25</td>\n",
       "      <td>25</td>\n",
       "      <td>25</td>\n",
       "    </tr>\n",
       "    <tr>\n",
       "      <th>Helicopter</th>\n",
       "      <td>2523</td>\n",
       "      <td>2523</td>\n",
       "      <td>2523</td>\n",
       "      <td>2523</td>\n",
       "      <td>2523</td>\n",
       "      <td>2523</td>\n",
       "      <td>2523</td>\n",
       "    </tr>\n",
       "    <tr>\n",
       "      <th>Powered Parachute</th>\n",
       "      <td>78</td>\n",
       "      <td>78</td>\n",
       "      <td>78</td>\n",
       "      <td>78</td>\n",
       "      <td>78</td>\n",
       "      <td>78</td>\n",
       "      <td>78</td>\n",
       "    </tr>\n",
       "    <tr>\n",
       "      <th>Powered-Lift</th>\n",
       "      <td>2</td>\n",
       "      <td>2</td>\n",
       "      <td>2</td>\n",
       "      <td>2</td>\n",
       "      <td>2</td>\n",
       "      <td>2</td>\n",
       "      <td>2</td>\n",
       "    </tr>\n",
       "    <tr>\n",
       "      <th>Rocket</th>\n",
       "      <td>1</td>\n",
       "      <td>1</td>\n",
       "      <td>1</td>\n",
       "      <td>1</td>\n",
       "      <td>1</td>\n",
       "      <td>1</td>\n",
       "      <td>1</td>\n",
       "    </tr>\n",
       "    <tr>\n",
       "      <th>Ultralight</th>\n",
       "      <td>11</td>\n",
       "      <td>11</td>\n",
       "      <td>11</td>\n",
       "      <td>11</td>\n",
       "      <td>11</td>\n",
       "      <td>11</td>\n",
       "      <td>11</td>\n",
       "    </tr>\n",
       "    <tr>\n",
       "      <th>WSFT</th>\n",
       "      <td>1</td>\n",
       "      <td>1</td>\n",
       "      <td>1</td>\n",
       "      <td>1</td>\n",
       "      <td>1</td>\n",
       "      <td>1</td>\n",
       "      <td>1</td>\n",
       "    </tr>\n",
       "    <tr>\n",
       "      <th>Weight-Shift</th>\n",
       "      <td>123</td>\n",
       "      <td>123</td>\n",
       "      <td>123</td>\n",
       "      <td>123</td>\n",
       "      <td>123</td>\n",
       "      <td>123</td>\n",
       "      <td>123</td>\n",
       "    </tr>\n",
       "  </tbody>\n",
       "</table>\n",
       "</div>"
      ],
      "text/plain": [
       "                   Accident.Number  Number.of.Engines  Engine.Type  \\\n",
       "Aircraft.Category                                                    \n",
       "Airplane                     19910              19910        19910   \n",
       "Balloon                         45                 45           45   \n",
       "Blimp                            4                  4            4   \n",
       "Glider                         115                115          115   \n",
       "Gyrocraft                       25                 25           25   \n",
       "Helicopter                    2523               2523         2523   \n",
       "Powered Parachute               78                 78           78   \n",
       "Powered-Lift                     2                  2            2   \n",
       "Rocket                           1                  1            1   \n",
       "Ultralight                      11                 11           11   \n",
       "WSFT                             1                  1            1   \n",
       "Weight-Shift                   123                123          123   \n",
       "\n",
       "                   Total.Fatal.Injuries  Total.Serious.Injuries  \\\n",
       "Aircraft.Category                                                 \n",
       "Airplane                          19910                   19910   \n",
       "Balloon                              45                      45   \n",
       "Blimp                                 4                       4   \n",
       "Glider                              115                     115   \n",
       "Gyrocraft                            25                      25   \n",
       "Helicopter                         2523                    2523   \n",
       "Powered Parachute                    78                      78   \n",
       "Powered-Lift                          2                       2   \n",
       "Rocket                                1                       1   \n",
       "Ultralight                           11                      11   \n",
       "WSFT                                  1                       1   \n",
       "Weight-Shift                        123                     123   \n",
       "\n",
       "                   Total.Minor.Injuries  Total.Uninjured  \n",
       "Aircraft.Category                                         \n",
       "Airplane                          19910            19910  \n",
       "Balloon                              45               45  \n",
       "Blimp                                 4                4  \n",
       "Glider                              115              115  \n",
       "Gyrocraft                            25               25  \n",
       "Helicopter                         2523             2523  \n",
       "Powered Parachute                    78               78  \n",
       "Powered-Lift                          2                2  \n",
       "Rocket                                1                1  \n",
       "Ultralight                           11               11  \n",
       "WSFT                                  1                1  \n",
       "Weight-Shift                        123              123  "
      ]
     },
     "execution_count": 153,
     "metadata": {},
     "output_type": "execute_result"
    }
   ],
   "source": [
    "\"\"\" First, I'm charged with determining which aircraft are the lowest risk for the company. \n",
    "Therefore, I grouped the data by aircraft category to see which of the aircraft types has \n",
    "the lowest risk\"\"\"\n",
    "\n",
    "###TODO: Calculate the percentage of passengers who aren't injured by the accident to claim which type of aircraft is the safest\n",
    "\n",
    "ad.groupby(['Aircraft.Category']).count()\n"
   ]
  },
  {
   "cell_type": "code",
   "execution_count": 154,
   "metadata": {
    "scrolled": true
   },
   "outputs": [],
   "source": [
    "### Airplanes have the lowest risk so I'm going to just look at those. \n",
    "\n",
    "ad = ad[ad['Aircraft.Category'] == 'Airplane']"
   ]
  },
  {
   "cell_type": "code",
   "execution_count": 155,
   "metadata": {},
   "outputs": [],
   "source": [
    "### I don't need the Aircraft Category anymore because they're all planes\n",
    "\n",
    "ad = ad.drop('Aircraft.Category', axis = 1)"
   ]
  },
  {
   "cell_type": "code",
   "execution_count": 156,
   "metadata": {
    "scrolled": true
   },
   "outputs": [
    {
     "data": {
      "text/html": [
       "<div>\n",
       "<style scoped>\n",
       "    .dataframe tbody tr th:only-of-type {\n",
       "        vertical-align: middle;\n",
       "    }\n",
       "\n",
       "    .dataframe tbody tr th {\n",
       "        vertical-align: top;\n",
       "    }\n",
       "\n",
       "    .dataframe thead th {\n",
       "        text-align: right;\n",
       "    }\n",
       "</style>\n",
       "<table border=\"1\" class=\"dataframe\">\n",
       "  <thead>\n",
       "    <tr style=\"text-align: right;\">\n",
       "      <th></th>\n",
       "      <th>Accident.Number</th>\n",
       "      <th>Engine.Type</th>\n",
       "      <th>Total.Fatal.Injuries</th>\n",
       "      <th>Total.Serious.Injuries</th>\n",
       "      <th>Total.Minor.Injuries</th>\n",
       "      <th>Total.Uninjured</th>\n",
       "    </tr>\n",
       "    <tr>\n",
       "      <th>Number.of.Engines</th>\n",
       "      <th></th>\n",
       "      <th></th>\n",
       "      <th></th>\n",
       "      <th></th>\n",
       "      <th></th>\n",
       "      <th></th>\n",
       "    </tr>\n",
       "  </thead>\n",
       "  <tbody>\n",
       "    <tr>\n",
       "      <th>0.0</th>\n",
       "      <td>7</td>\n",
       "      <td>7</td>\n",
       "      <td>7</td>\n",
       "      <td>7</td>\n",
       "      <td>7</td>\n",
       "      <td>7</td>\n",
       "    </tr>\n",
       "    <tr>\n",
       "      <th>1.0</th>\n",
       "      <td>16838</td>\n",
       "      <td>16838</td>\n",
       "      <td>16838</td>\n",
       "      <td>16838</td>\n",
       "      <td>16838</td>\n",
       "      <td>16838</td>\n",
       "    </tr>\n",
       "    <tr>\n",
       "      <th>2.0</th>\n",
       "      <td>2943</td>\n",
       "      <td>2943</td>\n",
       "      <td>2943</td>\n",
       "      <td>2943</td>\n",
       "      <td>2943</td>\n",
       "      <td>2943</td>\n",
       "    </tr>\n",
       "    <tr>\n",
       "      <th>3.0</th>\n",
       "      <td>47</td>\n",
       "      <td>47</td>\n",
       "      <td>47</td>\n",
       "      <td>47</td>\n",
       "      <td>47</td>\n",
       "      <td>47</td>\n",
       "    </tr>\n",
       "    <tr>\n",
       "      <th>4.0</th>\n",
       "      <td>74</td>\n",
       "      <td>74</td>\n",
       "      <td>74</td>\n",
       "      <td>74</td>\n",
       "      <td>74</td>\n",
       "      <td>74</td>\n",
       "    </tr>\n",
       "    <tr>\n",
       "      <th>8.0</th>\n",
       "      <td>1</td>\n",
       "      <td>1</td>\n",
       "      <td>1</td>\n",
       "      <td>1</td>\n",
       "      <td>1</td>\n",
       "      <td>1</td>\n",
       "    </tr>\n",
       "  </tbody>\n",
       "</table>\n",
       "</div>"
      ],
      "text/plain": [
       "                   Accident.Number  Engine.Type  Total.Fatal.Injuries  \\\n",
       "Number.of.Engines                                                       \n",
       "0.0                              7            7                     7   \n",
       "1.0                          16838        16838                 16838   \n",
       "2.0                           2943         2943                  2943   \n",
       "3.0                             47           47                    47   \n",
       "4.0                             74           74                    74   \n",
       "8.0                              1            1                     1   \n",
       "\n",
       "                   Total.Serious.Injuries  Total.Minor.Injuries  \\\n",
       "Number.of.Engines                                                 \n",
       "0.0                                     7                     7   \n",
       "1.0                                 16838                 16838   \n",
       "2.0                                  2943                  2943   \n",
       "3.0                                    47                    47   \n",
       "4.0                                    74                    74   \n",
       "8.0                                     1                     1   \n",
       "\n",
       "                   Total.Uninjured  \n",
       "Number.of.Engines                   \n",
       "0.0                              7  \n",
       "1.0                          16838  \n",
       "2.0                           2943  \n",
       "3.0                             47  \n",
       "4.0                             74  \n",
       "8.0                              1  "
      ]
     },
     "execution_count": 156,
     "metadata": {},
     "output_type": "execute_result"
    }
   ],
   "source": [
    "###Next I want to see if there's a difference in the percentage of uninjured people involved in\n",
    "### airplane accidents based on the number of engines the plane has. \n",
    "\n",
    "### Next I checked to see how many accidents I have from each accident type.  \n",
    "\n",
    "ad.groupby(['Number.of.Engines']).count()\n"
   ]
  },
  {
   "cell_type": "code",
   "execution_count": 157,
   "metadata": {},
   "outputs": [],
   "source": [
    "### I'm going to remove the accidents from 0 and 8 engines because I don't have enough data from those.\n",
    "\n",
    "ad = ad[ad['Number.of.Engines'] != 0.00]\n",
    "ad = ad[ad['Number.of.Engines'] != 8.0]"
   ]
  },
  {
   "cell_type": "code",
   "execution_count": 168,
   "metadata": {
    "scrolled": true
   },
   "outputs": [
    {
     "data": {
      "text/html": [
       "<div>\n",
       "<style scoped>\n",
       "    .dataframe tbody tr th:only-of-type {\n",
       "        vertical-align: middle;\n",
       "    }\n",
       "\n",
       "    .dataframe tbody tr th {\n",
       "        vertical-align: top;\n",
       "    }\n",
       "\n",
       "    .dataframe thead th {\n",
       "        text-align: right;\n",
       "    }\n",
       "</style>\n",
       "<table border=\"1\" class=\"dataframe\">\n",
       "  <thead>\n",
       "    <tr style=\"text-align: right;\">\n",
       "      <th></th>\n",
       "      <th>Total.Fatal.Injuries</th>\n",
       "      <th>Total.Serious.Injuries</th>\n",
       "      <th>Total.Minor.Injuries</th>\n",
       "      <th>Total.Uninjured</th>\n",
       "      <th>Percent.Uninjured</th>\n",
       "    </tr>\n",
       "    <tr>\n",
       "      <th>Number.of.Engines</th>\n",
       "      <th></th>\n",
       "      <th></th>\n",
       "      <th></th>\n",
       "      <th></th>\n",
       "      <th></th>\n",
       "    </tr>\n",
       "  </thead>\n",
       "  <tbody>\n",
       "    <tr>\n",
       "      <th>3.0</th>\n",
       "      <td>0.085106</td>\n",
       "      <td>0.553191</td>\n",
       "      <td>2.042553</td>\n",
       "      <td>106.978723</td>\n",
       "      <td>0.953007</td>\n",
       "    </tr>\n",
       "  </tbody>\n",
       "</table>\n",
       "</div>"
      ],
      "text/plain": [
       "                   Total.Fatal.Injuries  Total.Serious.Injuries  \\\n",
       "Number.of.Engines                                                 \n",
       "3.0                            0.085106                0.553191   \n",
       "\n",
       "                   Total.Minor.Injuries  Total.Uninjured  Percent.Uninjured  \n",
       "Number.of.Engines                                                            \n",
       "3.0                            2.042553       106.978723           0.953007  "
      ]
     },
     "execution_count": 168,
     "metadata": {},
     "output_type": "execute_result"
    }
   ],
   "source": [
    "ad.groupby(['Number.of.Engines']).mean()"
   ]
  },
  {
   "cell_type": "code",
   "execution_count": 165,
   "metadata": {},
   "outputs": [
    {
     "data": {
      "text/html": [
       "<div>\n",
       "<style scoped>\n",
       "    .dataframe tbody tr th:only-of-type {\n",
       "        vertical-align: middle;\n",
       "    }\n",
       "\n",
       "    .dataframe tbody tr th {\n",
       "        vertical-align: top;\n",
       "    }\n",
       "\n",
       "    .dataframe thead th {\n",
       "        text-align: right;\n",
       "    }\n",
       "</style>\n",
       "<table border=\"1\" class=\"dataframe\">\n",
       "  <thead>\n",
       "    <tr style=\"text-align: right;\">\n",
       "      <th></th>\n",
       "      <th>Number.of.Engines</th>\n",
       "      <th>Total.Fatal.Injuries</th>\n",
       "      <th>Total.Serious.Injuries</th>\n",
       "      <th>Total.Minor.Injuries</th>\n",
       "      <th>Total.Uninjured</th>\n",
       "    </tr>\n",
       "    <tr>\n",
       "      <th>Percent.Uninjured</th>\n",
       "      <th></th>\n",
       "      <th></th>\n",
       "      <th></th>\n",
       "      <th></th>\n",
       "      <th></th>\n",
       "    </tr>\n",
       "  </thead>\n",
       "  <tbody>\n",
       "    <tr>\n",
       "      <th>0.000000</th>\n",
       "      <td>3.0</td>\n",
       "      <td>2.0</td>\n",
       "      <td>0.0</td>\n",
       "      <td>2.0</td>\n",
       "      <td>0.0</td>\n",
       "    </tr>\n",
       "    <tr>\n",
       "      <th>0.750000</th>\n",
       "      <td>3.0</td>\n",
       "      <td>0.0</td>\n",
       "      <td>0.0</td>\n",
       "      <td>1.0</td>\n",
       "      <td>3.0</td>\n",
       "    </tr>\n",
       "    <tr>\n",
       "      <th>0.800000</th>\n",
       "      <td>3.0</td>\n",
       "      <td>0.0</td>\n",
       "      <td>1.0</td>\n",
       "      <td>0.0</td>\n",
       "      <td>4.0</td>\n",
       "    </tr>\n",
       "    <tr>\n",
       "      <th>0.818841</th>\n",
       "      <td>3.0</td>\n",
       "      <td>0.0</td>\n",
       "      <td>0.0</td>\n",
       "      <td>25.0</td>\n",
       "      <td>113.0</td>\n",
       "    </tr>\n",
       "    <tr>\n",
       "      <th>0.845238</th>\n",
       "      <td>3.0</td>\n",
       "      <td>0.0</td>\n",
       "      <td>7.0</td>\n",
       "      <td>19.0</td>\n",
       "      <td>142.0</td>\n",
       "    </tr>\n",
       "    <tr>\n",
       "      <th>0.858491</th>\n",
       "      <td>3.0</td>\n",
       "      <td>2.0</td>\n",
       "      <td>4.0</td>\n",
       "      <td>24.0</td>\n",
       "      <td>182.0</td>\n",
       "    </tr>\n",
       "    <tr>\n",
       "      <th>0.933333</th>\n",
       "      <td>3.0</td>\n",
       "      <td>0.0</td>\n",
       "      <td>11.0</td>\n",
       "      <td>1.0</td>\n",
       "      <td>168.0</td>\n",
       "    </tr>\n",
       "    <tr>\n",
       "      <th>0.935484</th>\n",
       "      <td>3.0</td>\n",
       "      <td>0.0</td>\n",
       "      <td>0.0</td>\n",
       "      <td>14.0</td>\n",
       "      <td>203.0</td>\n",
       "    </tr>\n",
       "    <tr>\n",
       "      <th>0.965753</th>\n",
       "      <td>3.0</td>\n",
       "      <td>0.0</td>\n",
       "      <td>1.0</td>\n",
       "      <td>9.0</td>\n",
       "      <td>282.0</td>\n",
       "    </tr>\n",
       "    <tr>\n",
       "      <th>0.984615</th>\n",
       "      <td>3.0</td>\n",
       "      <td>0.0</td>\n",
       "      <td>1.0</td>\n",
       "      <td>1.0</td>\n",
       "      <td>128.0</td>\n",
       "    </tr>\n",
       "    <tr>\n",
       "      <th>0.993548</th>\n",
       "      <td>3.0</td>\n",
       "      <td>0.0</td>\n",
       "      <td>1.0</td>\n",
       "      <td>0.0</td>\n",
       "      <td>154.0</td>\n",
       "    </tr>\n",
       "    <tr>\n",
       "      <th>1.000000</th>\n",
       "      <td>102.0</td>\n",
       "      <td>0.0</td>\n",
       "      <td>0.0</td>\n",
       "      <td>0.0</td>\n",
       "      <td>3649.0</td>\n",
       "    </tr>\n",
       "  </tbody>\n",
       "</table>\n",
       "</div>"
      ],
      "text/plain": [
       "                   Number.of.Engines  Total.Fatal.Injuries  \\\n",
       "Percent.Uninjured                                            \n",
       "0.000000                         3.0                   2.0   \n",
       "0.750000                         3.0                   0.0   \n",
       "0.800000                         3.0                   0.0   \n",
       "0.818841                         3.0                   0.0   \n",
       "0.845238                         3.0                   0.0   \n",
       "0.858491                         3.0                   2.0   \n",
       "0.933333                         3.0                   0.0   \n",
       "0.935484                         3.0                   0.0   \n",
       "0.965753                         3.0                   0.0   \n",
       "0.984615                         3.0                   0.0   \n",
       "0.993548                         3.0                   0.0   \n",
       "1.000000                       102.0                   0.0   \n",
       "\n",
       "                   Total.Serious.Injuries  Total.Minor.Injuries  \\\n",
       "Percent.Uninjured                                                 \n",
       "0.000000                              0.0                   2.0   \n",
       "0.750000                              0.0                   1.0   \n",
       "0.800000                              1.0                   0.0   \n",
       "0.818841                              0.0                  25.0   \n",
       "0.845238                              7.0                  19.0   \n",
       "0.858491                              4.0                  24.0   \n",
       "0.933333                             11.0                   1.0   \n",
       "0.935484                              0.0                  14.0   \n",
       "0.965753                              1.0                   9.0   \n",
       "0.984615                              1.0                   1.0   \n",
       "0.993548                              1.0                   0.0   \n",
       "1.000000                              0.0                   0.0   \n",
       "\n",
       "                   Total.Uninjured  \n",
       "Percent.Uninjured                   \n",
       "0.000000                       0.0  \n",
       "0.750000                       3.0  \n",
       "0.800000                       4.0  \n",
       "0.818841                     113.0  \n",
       "0.845238                     142.0  \n",
       "0.858491                     182.0  \n",
       "0.933333                     168.0  \n",
       "0.935484                     203.0  \n",
       "0.965753                     282.0  \n",
       "0.984615                     128.0  \n",
       "0.993548                     154.0  \n",
       "1.000000                    3649.0  "
      ]
     },
     "execution_count": 165,
     "metadata": {},
     "output_type": "execute_result"
    }
   ],
   "source": [
    "ad['Percent.Uninjured'] = ad['Total.Uninjured']/(ad['Total.Fatal.Injuries']+ad['Total.Serious.Injuries']+ad['Total.Minor.Injuries']+ad['Total.Uninjured'])\n"
   ]
  },
  {
   "cell_type": "code",
   "execution_count": 160,
   "metadata": {},
   "outputs": [],
   "source": [
    "ad = ad[ad['Number.of.Engines'] == 3.0]"
   ]
  },
  {
   "cell_type": "code",
   "execution_count": 167,
   "metadata": {},
   "outputs": [
    {
     "data": {
      "text/html": [
       "<div>\n",
       "<style scoped>\n",
       "    .dataframe tbody tr th:only-of-type {\n",
       "        vertical-align: middle;\n",
       "    }\n",
       "\n",
       "    .dataframe tbody tr th {\n",
       "        vertical-align: top;\n",
       "    }\n",
       "\n",
       "    .dataframe thead th {\n",
       "        text-align: right;\n",
       "    }\n",
       "</style>\n",
       "<table border=\"1\" class=\"dataframe\">\n",
       "  <thead>\n",
       "    <tr style=\"text-align: right;\">\n",
       "      <th></th>\n",
       "      <th>Number.of.Engines</th>\n",
       "      <th>Total.Fatal.Injuries</th>\n",
       "      <th>Total.Serious.Injuries</th>\n",
       "      <th>Total.Minor.Injuries</th>\n",
       "      <th>Total.Uninjured</th>\n",
       "      <th>Percent.Uninjured</th>\n",
       "    </tr>\n",
       "    <tr>\n",
       "      <th>Engine.Type</th>\n",
       "      <th></th>\n",
       "      <th></th>\n",
       "      <th></th>\n",
       "      <th></th>\n",
       "      <th></th>\n",
       "      <th></th>\n",
       "    </tr>\n",
       "  </thead>\n",
       "  <tbody>\n",
       "    <tr>\n",
       "      <th>Turbo Fan</th>\n",
       "      <td>3.0</td>\n",
       "      <td>0.088889</td>\n",
       "      <td>0.577778</td>\n",
       "      <td>2.133333</td>\n",
       "      <td>109.777778</td>\n",
       "      <td>0.950821</td>\n",
       "    </tr>\n",
       "    <tr>\n",
       "      <th>Turbo Jet</th>\n",
       "      <td>3.0</td>\n",
       "      <td>0.000000</td>\n",
       "      <td>0.000000</td>\n",
       "      <td>0.000000</td>\n",
       "      <td>44.000000</td>\n",
       "      <td>1.000000</td>\n",
       "    </tr>\n",
       "  </tbody>\n",
       "</table>\n",
       "</div>"
      ],
      "text/plain": [
       "             Number.of.Engines  Total.Fatal.Injuries  Total.Serious.Injuries  \\\n",
       "Engine.Type                                                                    \n",
       "Turbo Fan                  3.0              0.088889                0.577778   \n",
       "Turbo Jet                  3.0              0.000000                0.000000   \n",
       "\n",
       "             Total.Minor.Injuries  Total.Uninjured  Percent.Uninjured  \n",
       "Engine.Type                                                            \n",
       "Turbo Fan                2.133333       109.777778           0.950821  \n",
       "Turbo Jet                0.000000        44.000000           1.000000  "
      ]
     },
     "execution_count": 167,
     "metadata": {},
     "output_type": "execute_result"
    }
   ],
   "source": [
    "ad.groupby(['Engine.Type']).mean()"
   ]
  },
  {
   "cell_type": "code",
   "execution_count": 23,
   "metadata": {},
   "outputs": [
    {
     "data": {
      "text/html": [
       "<div>\n",
       "<style scoped>\n",
       "    .dataframe tbody tr th:only-of-type {\n",
       "        vertical-align: middle;\n",
       "    }\n",
       "\n",
       "    .dataframe tbody tr th {\n",
       "        vertical-align: top;\n",
       "    }\n",
       "\n",
       "    .dataframe thead th {\n",
       "        text-align: right;\n",
       "    }\n",
       "</style>\n",
       "<table border=\"1\" class=\"dataframe\">\n",
       "  <thead>\n",
       "    <tr style=\"text-align: right;\">\n",
       "      <th></th>\n",
       "      <th>Event.Id</th>\n",
       "      <th>Investigation.Type</th>\n",
       "      <th>Accident.Number</th>\n",
       "      <th>Event.Date</th>\n",
       "      <th>Location</th>\n",
       "      <th>Country</th>\n",
       "      <th>Latitude</th>\n",
       "      <th>Longitude</th>\n",
       "      <th>Airport.Code</th>\n",
       "      <th>Airport.Name</th>\n",
       "      <th>...</th>\n",
       "      <th>Purpose.of.flight</th>\n",
       "      <th>Air.carrier</th>\n",
       "      <th>Total.Fatal.Injuries</th>\n",
       "      <th>Total.Serious.Injuries</th>\n",
       "      <th>Total.Minor.Injuries</th>\n",
       "      <th>Total.Uninjured</th>\n",
       "      <th>Weather.Condition</th>\n",
       "      <th>Broad.phase.of.flight</th>\n",
       "      <th>Report.Status</th>\n",
       "      <th>Publication.Date</th>\n",
       "    </tr>\n",
       "  </thead>\n",
       "  <tbody>\n",
       "    <tr>\n",
       "      <th>85351</th>\n",
       "      <td>NaN</td>\n",
       "      <td>01-06-2021</td>\n",
       "      <td>NaN</td>\n",
       "      <td>NaN</td>\n",
       "      <td>NaN</td>\n",
       "      <td>NaN</td>\n",
       "      <td>NaN</td>\n",
       "      <td>NaN</td>\n",
       "      <td>NaN</td>\n",
       "      <td>NaN</td>\n",
       "      <td>...</td>\n",
       "      <td>NaN</td>\n",
       "      <td>NaN</td>\n",
       "      <td>NaN</td>\n",
       "      <td>NaN</td>\n",
       "      <td>NaN</td>\n",
       "      <td>NaN</td>\n",
       "      <td>NaN</td>\n",
       "      <td>NaN</td>\n",
       "      <td>NaN</td>\n",
       "      <td>NaN</td>\n",
       "    </tr>\n",
       "    <tr>\n",
       "      <th>86122</th>\n",
       "      <td>NaN</td>\n",
       "      <td>01-06-2021</td>\n",
       "      <td>NaN</td>\n",
       "      <td>NaN</td>\n",
       "      <td>NaN</td>\n",
       "      <td>NaN</td>\n",
       "      <td>NaN</td>\n",
       "      <td>NaN</td>\n",
       "      <td>NaN</td>\n",
       "      <td>NaN</td>\n",
       "      <td>...</td>\n",
       "      <td>NaN</td>\n",
       "      <td>NaN</td>\n",
       "      <td>NaN</td>\n",
       "      <td>NaN</td>\n",
       "      <td>NaN</td>\n",
       "      <td>NaN</td>\n",
       "      <td>NaN</td>\n",
       "      <td>NaN</td>\n",
       "      <td>NaN</td>\n",
       "      <td>NaN</td>\n",
       "    </tr>\n",
       "    <tr>\n",
       "      <th>86140</th>\n",
       "      <td>NaN</td>\n",
       "      <td>01-06-2021</td>\n",
       "      <td>NaN</td>\n",
       "      <td>NaN</td>\n",
       "      <td>NaN</td>\n",
       "      <td>NaN</td>\n",
       "      <td>NaN</td>\n",
       "      <td>NaN</td>\n",
       "      <td>NaN</td>\n",
       "      <td>NaN</td>\n",
       "      <td>...</td>\n",
       "      <td>NaN</td>\n",
       "      <td>NaN</td>\n",
       "      <td>NaN</td>\n",
       "      <td>NaN</td>\n",
       "      <td>NaN</td>\n",
       "      <td>NaN</td>\n",
       "      <td>NaN</td>\n",
       "      <td>NaN</td>\n",
       "      <td>NaN</td>\n",
       "      <td>NaN</td>\n",
       "    </tr>\n",
       "    <tr>\n",
       "      <th>86119</th>\n",
       "      <td>NaN</td>\n",
       "      <td>01-06-2021</td>\n",
       "      <td>NaN</td>\n",
       "      <td>NaN</td>\n",
       "      <td>NaN</td>\n",
       "      <td>NaN</td>\n",
       "      <td>NaN</td>\n",
       "      <td>NaN</td>\n",
       "      <td>NaN</td>\n",
       "      <td>NaN</td>\n",
       "      <td>...</td>\n",
       "      <td>NaN</td>\n",
       "      <td>NaN</td>\n",
       "      <td>NaN</td>\n",
       "      <td>NaN</td>\n",
       "      <td>NaN</td>\n",
       "      <td>NaN</td>\n",
       "      <td>NaN</td>\n",
       "      <td>NaN</td>\n",
       "      <td>NaN</td>\n",
       "      <td>NaN</td>\n",
       "    </tr>\n",
       "    <tr>\n",
       "      <th>86154</th>\n",
       "      <td>NaN</td>\n",
       "      <td>01-06-2021</td>\n",
       "      <td>NaN</td>\n",
       "      <td>NaN</td>\n",
       "      <td>NaN</td>\n",
       "      <td>NaN</td>\n",
       "      <td>NaN</td>\n",
       "      <td>NaN</td>\n",
       "      <td>NaN</td>\n",
       "      <td>NaN</td>\n",
       "      <td>...</td>\n",
       "      <td>NaN</td>\n",
       "      <td>NaN</td>\n",
       "      <td>NaN</td>\n",
       "      <td>NaN</td>\n",
       "      <td>NaN</td>\n",
       "      <td>NaN</td>\n",
       "      <td>NaN</td>\n",
       "      <td>NaN</td>\n",
       "      <td>NaN</td>\n",
       "      <td>NaN</td>\n",
       "    </tr>\n",
       "    <tr>\n",
       "      <th>...</th>\n",
       "      <td>...</td>\n",
       "      <td>...</td>\n",
       "      <td>...</td>\n",
       "      <td>...</td>\n",
       "      <td>...</td>\n",
       "      <td>...</td>\n",
       "      <td>...</td>\n",
       "      <td>...</td>\n",
       "      <td>...</td>\n",
       "      <td>...</td>\n",
       "      <td>...</td>\n",
       "      <td>...</td>\n",
       "      <td>...</td>\n",
       "      <td>...</td>\n",
       "      <td>...</td>\n",
       "      <td>...</td>\n",
       "      <td>...</td>\n",
       "      <td>...</td>\n",
       "      <td>...</td>\n",
       "      <td>...</td>\n",
       "      <td>...</td>\n",
       "    </tr>\n",
       "    <tr>\n",
       "      <th>86349</th>\n",
       "      <td>NaN</td>\n",
       "      <td>31-08-2021</td>\n",
       "      <td>NaN</td>\n",
       "      <td>NaN</td>\n",
       "      <td>NaN</td>\n",
       "      <td>NaN</td>\n",
       "      <td>NaN</td>\n",
       "      <td>NaN</td>\n",
       "      <td>NaN</td>\n",
       "      <td>NaN</td>\n",
       "      <td>...</td>\n",
       "      <td>NaN</td>\n",
       "      <td>NaN</td>\n",
       "      <td>NaN</td>\n",
       "      <td>NaN</td>\n",
       "      <td>NaN</td>\n",
       "      <td>NaN</td>\n",
       "      <td>NaN</td>\n",
       "      <td>NaN</td>\n",
       "      <td>NaN</td>\n",
       "      <td>NaN</td>\n",
       "    </tr>\n",
       "    <tr>\n",
       "      <th>85193</th>\n",
       "      <td>NaN</td>\n",
       "      <td>31-08-2021</td>\n",
       "      <td>NaN</td>\n",
       "      <td>NaN</td>\n",
       "      <td>NaN</td>\n",
       "      <td>NaN</td>\n",
       "      <td>NaN</td>\n",
       "      <td>NaN</td>\n",
       "      <td>NaN</td>\n",
       "      <td>NaN</td>\n",
       "      <td>...</td>\n",
       "      <td>NaN</td>\n",
       "      <td>NaN</td>\n",
       "      <td>NaN</td>\n",
       "      <td>NaN</td>\n",
       "      <td>NaN</td>\n",
       "      <td>NaN</td>\n",
       "      <td>NaN</td>\n",
       "      <td>NaN</td>\n",
       "      <td>NaN</td>\n",
       "      <td>NaN</td>\n",
       "    </tr>\n",
       "    <tr>\n",
       "      <th>86717</th>\n",
       "      <td>NaN</td>\n",
       "      <td>31-08-2021</td>\n",
       "      <td>NaN</td>\n",
       "      <td>NaN</td>\n",
       "      <td>NaN</td>\n",
       "      <td>NaN</td>\n",
       "      <td>NaN</td>\n",
       "      <td>NaN</td>\n",
       "      <td>NaN</td>\n",
       "      <td>NaN</td>\n",
       "      <td>...</td>\n",
       "      <td>NaN</td>\n",
       "      <td>NaN</td>\n",
       "      <td>NaN</td>\n",
       "      <td>NaN</td>\n",
       "      <td>NaN</td>\n",
       "      <td>NaN</td>\n",
       "      <td>NaN</td>\n",
       "      <td>NaN</td>\n",
       "      <td>NaN</td>\n",
       "      <td>NaN</td>\n",
       "    </tr>\n",
       "    <tr>\n",
       "      <th>86561</th>\n",
       "      <td>NaN</td>\n",
       "      <td>31-08-2021</td>\n",
       "      <td>NaN</td>\n",
       "      <td>NaN</td>\n",
       "      <td>NaN</td>\n",
       "      <td>NaN</td>\n",
       "      <td>NaN</td>\n",
       "      <td>NaN</td>\n",
       "      <td>NaN</td>\n",
       "      <td>NaN</td>\n",
       "      <td>...</td>\n",
       "      <td>NaN</td>\n",
       "      <td>NaN</td>\n",
       "      <td>NaN</td>\n",
       "      <td>NaN</td>\n",
       "      <td>NaN</td>\n",
       "      <td>NaN</td>\n",
       "      <td>NaN</td>\n",
       "      <td>NaN</td>\n",
       "      <td>NaN</td>\n",
       "      <td>NaN</td>\n",
       "    </tr>\n",
       "    <tr>\n",
       "      <th>86309</th>\n",
       "      <td>NaN</td>\n",
       "      <td>31-08-2021</td>\n",
       "      <td>NaN</td>\n",
       "      <td>NaN</td>\n",
       "      <td>NaN</td>\n",
       "      <td>NaN</td>\n",
       "      <td>NaN</td>\n",
       "      <td>NaN</td>\n",
       "      <td>NaN</td>\n",
       "      <td>NaN</td>\n",
       "      <td>...</td>\n",
       "      <td>NaN</td>\n",
       "      <td>NaN</td>\n",
       "      <td>NaN</td>\n",
       "      <td>NaN</td>\n",
       "      <td>NaN</td>\n",
       "      <td>NaN</td>\n",
       "      <td>NaN</td>\n",
       "      <td>NaN</td>\n",
       "      <td>NaN</td>\n",
       "      <td>NaN</td>\n",
       "    </tr>\n",
       "  </tbody>\n",
       "</table>\n",
       "<p>1447 rows × 31 columns</p>\n",
       "</div>"
      ],
      "text/plain": [
       "      Event.Id Investigation.Type Accident.Number Event.Date Location Country  \\\n",
       "85351      NaN         01-06-2021             NaN        NaN      NaN     NaN   \n",
       "86122      NaN         01-06-2021             NaN        NaN      NaN     NaN   \n",
       "86140      NaN         01-06-2021             NaN        NaN      NaN     NaN   \n",
       "86119      NaN         01-06-2021             NaN        NaN      NaN     NaN   \n",
       "86154      NaN         01-06-2021             NaN        NaN      NaN     NaN   \n",
       "...        ...                ...             ...        ...      ...     ...   \n",
       "86349      NaN         31-08-2021             NaN        NaN      NaN     NaN   \n",
       "85193      NaN         31-08-2021             NaN        NaN      NaN     NaN   \n",
       "86717      NaN         31-08-2021             NaN        NaN      NaN     NaN   \n",
       "86561      NaN         31-08-2021             NaN        NaN      NaN     NaN   \n",
       "86309      NaN         31-08-2021             NaN        NaN      NaN     NaN   \n",
       "\n",
       "      Latitude Longitude Airport.Code Airport.Name  ... Purpose.of.flight  \\\n",
       "85351      NaN       NaN          NaN          NaN  ...               NaN   \n",
       "86122      NaN       NaN          NaN          NaN  ...               NaN   \n",
       "86140      NaN       NaN          NaN          NaN  ...               NaN   \n",
       "86119      NaN       NaN          NaN          NaN  ...               NaN   \n",
       "86154      NaN       NaN          NaN          NaN  ...               NaN   \n",
       "...        ...       ...          ...          ...  ...               ...   \n",
       "86349      NaN       NaN          NaN          NaN  ...               NaN   \n",
       "85193      NaN       NaN          NaN          NaN  ...               NaN   \n",
       "86717      NaN       NaN          NaN          NaN  ...               NaN   \n",
       "86561      NaN       NaN          NaN          NaN  ...               NaN   \n",
       "86309      NaN       NaN          NaN          NaN  ...               NaN   \n",
       "\n",
       "      Air.carrier Total.Fatal.Injuries Total.Serious.Injuries  \\\n",
       "85351         NaN                  NaN                    NaN   \n",
       "86122         NaN                  NaN                    NaN   \n",
       "86140         NaN                  NaN                    NaN   \n",
       "86119         NaN                  NaN                    NaN   \n",
       "86154         NaN                  NaN                    NaN   \n",
       "...           ...                  ...                    ...   \n",
       "86349         NaN                  NaN                    NaN   \n",
       "85193         NaN                  NaN                    NaN   \n",
       "86717         NaN                  NaN                    NaN   \n",
       "86561         NaN                  NaN                    NaN   \n",
       "86309         NaN                  NaN                    NaN   \n",
       "\n",
       "      Total.Minor.Injuries Total.Uninjured Weather.Condition  \\\n",
       "85351                  NaN             NaN               NaN   \n",
       "86122                  NaN             NaN               NaN   \n",
       "86140                  NaN             NaN               NaN   \n",
       "86119                  NaN             NaN               NaN   \n",
       "86154                  NaN             NaN               NaN   \n",
       "...                    ...             ...               ...   \n",
       "86349                  NaN             NaN               NaN   \n",
       "85193                  NaN             NaN               NaN   \n",
       "86717                  NaN             NaN               NaN   \n",
       "86561                  NaN             NaN               NaN   \n",
       "86309                  NaN             NaN               NaN   \n",
       "\n",
       "       Broad.phase.of.flight Report.Status Publication.Date  \n",
       "85351                    NaN           NaN              NaN  \n",
       "86122                    NaN           NaN              NaN  \n",
       "86140                    NaN           NaN              NaN  \n",
       "86119                    NaN           NaN              NaN  \n",
       "86154                    NaN           NaN              NaN  \n",
       "...                      ...           ...              ...  \n",
       "86349                    NaN           NaN              NaN  \n",
       "85193                    NaN           NaN              NaN  \n",
       "86717                    NaN           NaN              NaN  \n",
       "86561                    NaN           NaN              NaN  \n",
       "86309                    NaN           NaN              NaN  \n",
       "\n",
       "[1447 rows x 31 columns]"
      ]
     },
     "execution_count": 23,
     "metadata": {},
     "output_type": "execute_result"
    }
   ],
   "source": [
    "ad[ad.duplicated(keep=False)].sort_values(by='Investigation.Type')"
   ]
  },
  {
   "cell_type": "markdown",
   "metadata": {},
   "source": []
  },
  {
   "cell_type": "code",
   "execution_count": 7,
   "metadata": {
    "scrolled": true
   },
   "outputs": [
    {
     "data": {
      "text/plain": [
       "Event.Id                   1459\n",
       "Investigation.Type            0\n",
       "Accident.Number            1459\n",
       "Event.Date                 1459\n",
       "Location                   1511\n",
       "Country                    1685\n",
       "Latitude                  55966\n",
       "Longitude                 55975\n",
       "Airport.Code              40099\n",
       "Airport.Name              37558\n",
       "Injury.Severity            2459\n",
       "Aircraft.damage            4653\n",
       "Aircraft.Category         58061\n",
       "Registration.Number        2776\n",
       "Make                       1522\n",
       "Model                      1551\n",
       "Amateur.Built              1561\n",
       "Number.of.Engines          7543\n",
       "Engine.Type                8536\n",
       "FAR.Description           58325\n",
       "Schedule                  77766\n",
       "Purpose.of.flight          7651\n",
       "Air.carrier               73700\n",
       "Total.Fatal.Injuries      12860\n",
       "Total.Serious.Injuries    13969\n",
       "Total.Minor.Injuries      13392\n",
       "Total.Uninjured            7371\n",
       "Weather.Condition          5951\n",
       "Broad.phase.of.flight     28624\n",
       "Report.Status              7840\n",
       "Publication.Date          16689\n",
       "dtype: int64"
      ]
     },
     "execution_count": 7,
     "metadata": {},
     "output_type": "execute_result"
    }
   ],
   "source": [
    "ad.isna().sum() #checked for missing data"
   ]
  },
  {
   "cell_type": "code",
   "execution_count": 17,
   "metadata": {},
   "outputs": [
    {
     "data": {
      "text/plain": [
       "Cessna                           22227\n",
       "Piper                            12029\n",
       "CESSNA                            4922\n",
       "Beech                             4330\n",
       "PIPER                             2841\n",
       "                                 ...  \n",
       "William F. Lair                      1\n",
       "AIRGYRO                              1\n",
       "Quad City Ultralight                 1\n",
       "QUARTZ MOUNTAIN AEROSPACE INC        1\n",
       "Harold Vander                        1\n",
       "Name: Make, Length: 8237, dtype: int64"
      ]
     },
     "execution_count": 17,
     "metadata": {},
     "output_type": "execute_result"
    }
   ],
   "source": [
    "ad['Make'].value_counts()"
   ]
  },
  {
   "cell_type": "code",
   "execution_count": 18,
   "metadata": {},
   "outputs": [
    {
     "data": {
      "text/plain": [
       "152                     2367\n",
       "172                     1756\n",
       "172N                    1164\n",
       "PA-28-140                932\n",
       "150                      829\n",
       "                        ... \n",
       "KCA                        1\n",
       "HOFFMAN BMW AIRTRIKE       1\n",
       "P-2                        1\n",
       "300A                       1\n",
       "MIRAGE F1 B                1\n",
       "Name: Model, Length: 12318, dtype: int64"
      ]
     },
     "execution_count": 18,
     "metadata": {},
     "output_type": "execute_result"
    }
   ],
   "source": [
    "ad['Model'].value_counts()\n"
   ]
  },
  {
   "cell_type": "code",
   "execution_count": null,
   "metadata": {},
   "outputs": [],
   "source": []
  },
  {
   "cell_type": "code",
   "execution_count": null,
   "metadata": {},
   "outputs": [],
   "source": []
  },
  {
   "cell_type": "code",
   "execution_count": null,
   "metadata": {},
   "outputs": [],
   "source": []
  },
  {
   "cell_type": "markdown",
   "metadata": {},
   "source": [
    "Exploratory Data Analysis"
   ]
  },
  {
   "cell_type": "markdown",
   "metadata": {},
   "source": []
  },
  {
   "cell_type": "markdown",
   "metadata": {},
   "source": [
    "Conclusions"
   ]
  },
  {
   "cell_type": "markdown",
   "metadata": {},
   "source": []
  },
  {
   "cell_type": "markdown",
   "metadata": {},
   "source": [
    "Limitations"
   ]
  },
  {
   "cell_type": "markdown",
   "metadata": {},
   "source": []
  },
  {
   "cell_type": "markdown",
   "metadata": {},
   "source": [
    "Recommendations"
   ]
  },
  {
   "cell_type": "markdown",
   "metadata": {},
   "source": []
  },
  {
   "cell_type": "markdown",
   "metadata": {},
   "source": [
    "Next Steps"
   ]
  }
 ],
 "metadata": {
  "kernelspec": {
   "display_name": "Python (learn-env)",
   "language": "python",
   "name": "learn-env"
  },
  "language_info": {
   "codemirror_mode": {
    "name": "ipython",
    "version": 3
   },
   "file_extension": ".py",
   "mimetype": "text/x-python",
   "name": "python",
   "nbconvert_exporter": "python",
   "pygments_lexer": "ipython3",
   "version": "3.8.5"
  }
 },
 "nbformat": 4,
 "nbformat_minor": 4
}
